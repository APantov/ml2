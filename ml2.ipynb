{
  "nbformat": 4,
  "nbformat_minor": 0,
  "metadata": {
    "colab": {
      "provenance": []
    },
    "kernelspec": {
      "name": "python3",
      "display_name": "Python 3"
    },
    "language_info": {
      "name": "python"
    }
  },
  "cells": [
    {
      "cell_type": "markdown",
      "source": [],
      "metadata": {
        "id": "FzDkkbLlLvIs"
      }
    },
    {
      "cell_type": "code",
      "execution_count": 11,
      "metadata": {
        "colab": {
          "base_uri": "https://localhost:8080/"
        },
        "id": "BWdajR1fLf1v",
        "outputId": "b14fe900-13bf-4ff9-bb6c-beb857aa5b27"
      },
      "outputs": [
        {
          "output_type": "stream",
          "name": "stdout",
          "text": [
            "Initial number of rows: 886\n",
            "\n",
            "Checking for null values...\n",
            "id           0\n",
            "age          0\n",
            "year         0\n",
            "sex          0\n",
            "glang        0\n",
            "part         0\n",
            "job          0\n",
            "stud_h       0\n",
            "health       0\n",
            "psyt         0\n",
            "jspe         0\n",
            "qcae_cog     0\n",
            "qcae_aff     0\n",
            "amsp         0\n",
            "erec_mean    0\n",
            "cesd         0\n",
            "stai_t       0\n",
            "mbi_ex       0\n",
            "mbi_cy       0\n",
            "mbi_ea       0\n",
            "dtype: int64\n",
            "\n",
            "Rows after removing null values: 886\n",
            "\n",
            "Rows after removing outliers: 830\n",
            "\n",
            "Columns after removing irrelevant ones: ['age', 'year', 'sex', 'glang', 'part', 'job', 'stud_h', 'health', 'psyt', 'jspe', 'qcae_cog', 'qcae_aff', 'amsp', 'erec_mean', 'cesd', 'stai_t', 'mbi_ex', 'mbi_cy', 'mbi_ea']\n",
            "\n",
            "Cleaned data saved to /content/Cleaned_Medical_Data.csv\n"
          ]
        }
      ],
      "source": [
        "# Import necessary libraries\n",
        "import pandas as pd\n",
        "import numpy as np\n",
        "\n",
        "# Calculate z-scores and filter out rows where z-scores exceed a threshold\n",
        "def remove_outliers(df, threshold=3):\n",
        "    numeric_cols = df.select_dtypes(include=[np.number]).columns\n",
        "    z_scores = np.abs((df[numeric_cols] - df[numeric_cols].mean()) / df[numeric_cols].std())\n",
        "    return df[(z_scores < threshold).all(axis=1)]\n",
        "\n",
        "# Load the dataset\n",
        "data_path = '/content/Medical Data.csv'\n",
        "medical_data = pd.read_csv(data_path)\n",
        "\n",
        "print(f\"Initial number of rows: {len(medical_data)}\\n\")\n",
        "\n",
        "# Step 1: Check for null values and remove rows with any null values\n",
        "print(\"Checking for null values...\")\n",
        "print(medical_data.isnull().sum())  # Display the count of null values for each column\n",
        "\n",
        "# Remove rows with null values\n",
        "medical_data_cleaned = medical_data.dropna()\n",
        "print(f\"\\nRows after removing null values: {len(medical_data_cleaned)}\\n\")\n",
        "\n",
        "# Step 2: Identify and remove outliers\n",
        "medical_data_no_outliers = remove_outliers(medical_data_cleaned)\n",
        "print(f\"Rows after removing outliers: {len(medical_data_no_outliers)}\\n\")\n",
        "\n",
        "# Step 3: Remove irrelevant columns (participant ID)\n",
        "columns_to_drop = ['id']\n",
        "medical_data_final = medical_data_no_outliers.drop(columns=columns_to_drop, errors='ignore')\n",
        "print(f\"Columns after removing irrelevant ones: {list(medical_data_final.columns)}\\n\")\n",
        "\n",
        "# Save the cleaned dataset for further use\n",
        "output_path = '/content/Cleaned_Medical_Data.csv'\n",
        "medical_data_final.to_csv(output_path, index=False)\n",
        "print(f\"Cleaned data saved to {output_path}\")\n"
      ]
    },
    {
      "cell_type": "code",
      "source": [],
      "metadata": {
        "id": "C32LkfOCLukQ"
      },
      "execution_count": null,
      "outputs": []
    },
    {
      "cell_type": "code",
      "source": [],
      "metadata": {
        "id": "jjDCAaAGLuvN"
      },
      "execution_count": null,
      "outputs": []
    }
  ]
}